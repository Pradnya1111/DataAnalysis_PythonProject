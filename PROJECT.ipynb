{
 "cells": [
  {
   "cell_type": "markdown",
   "id": "00c7d2d5",
   "metadata": {},
   "source": [
    "# Introduction\n",
    "\n",
    "#### The objective of this data analysis project is to delve into a comprehensive exploration of a Housing dataset, uncover hidden  patterns, and extract valuable insights. By employing various analytical techniques, we aim to transform raw data into actionable information that can drive strategic decision-making, optimize processes, and facilitate better understanding of the Housing dataset.,to find solution to the problems."
   ]
  },
  {
   "cell_type": "code",
   "execution_count": 1,
   "id": "3fccd4d3",
   "metadata": {},
   "outputs": [],
   "source": [
    "# importing the required libraris\n",
    "import pandas as pd\n",
    "import numpy as np\n",
    "import matplotlib.pyplot as plt\n",
    "%matplotlib inline\n",
    "import seaborn as sns"
   ]
  },
  {
   "cell_type": "code",
   "execution_count": 36,
   "id": "e4369810",
   "metadata": {},
   "outputs": [],
   "source": [
    "# loading the Housing dataset\n",
    "df=pd.read_excel('housing.xlsx')"
   ]
  },
  {
   "cell_type": "code",
   "execution_count": 6,
   "id": "05c697fa",
   "metadata": {},
   "outputs": [
    {
     "data": {
      "text/html": [
       "<div>\n",
       "<style scoped>\n",
       "    .dataframe tbody tr th:only-of-type {\n",
       "        vertical-align: middle;\n",
       "    }\n",
       "\n",
       "    .dataframe tbody tr th {\n",
       "        vertical-align: top;\n",
       "    }\n",
       "\n",
       "    .dataframe thead th {\n",
       "        text-align: right;\n",
       "    }\n",
       "</style>\n",
       "<table border=\"1\" class=\"dataframe\">\n",
       "  <thead>\n",
       "    <tr style=\"text-align: right;\">\n",
       "      <th></th>\n",
       "      <th>longitude</th>\n",
       "      <th>latitude</th>\n",
       "      <th>housing_median_age</th>\n",
       "      <th>total_rooms</th>\n",
       "      <th>total_bedrooms</th>\n",
       "      <th>population</th>\n",
       "      <th>households</th>\n",
       "      <th>median_income</th>\n",
       "      <th>median_house_value</th>\n",
       "      <th>ocean_proximity</th>\n",
       "    </tr>\n",
       "  </thead>\n",
       "  <tbody>\n",
       "    <tr>\n",
       "      <th>0</th>\n",
       "      <td>-122.23</td>\n",
       "      <td>37.88</td>\n",
       "      <td>41</td>\n",
       "      <td>880</td>\n",
       "      <td>129.0</td>\n",
       "      <td>322</td>\n",
       "      <td>126</td>\n",
       "      <td>8.3252</td>\n",
       "      <td>452600</td>\n",
       "      <td>NEAR BAY</td>\n",
       "    </tr>\n",
       "    <tr>\n",
       "      <th>1</th>\n",
       "      <td>-122.22</td>\n",
       "      <td>37.86</td>\n",
       "      <td>21</td>\n",
       "      <td>7099</td>\n",
       "      <td>1106.0</td>\n",
       "      <td>2401</td>\n",
       "      <td>1138</td>\n",
       "      <td>8.3014</td>\n",
       "      <td>358500</td>\n",
       "      <td>NEAR BAY</td>\n",
       "    </tr>\n",
       "    <tr>\n",
       "      <th>2</th>\n",
       "      <td>-122.24</td>\n",
       "      <td>37.85</td>\n",
       "      <td>52</td>\n",
       "      <td>1467</td>\n",
       "      <td>190.0</td>\n",
       "      <td>496</td>\n",
       "      <td>177</td>\n",
       "      <td>7.2574</td>\n",
       "      <td>352100</td>\n",
       "      <td>NEAR BAY</td>\n",
       "    </tr>\n",
       "    <tr>\n",
       "      <th>3</th>\n",
       "      <td>-122.25</td>\n",
       "      <td>37.85</td>\n",
       "      <td>52</td>\n",
       "      <td>1274</td>\n",
       "      <td>235.0</td>\n",
       "      <td>558</td>\n",
       "      <td>219</td>\n",
       "      <td>5.6431</td>\n",
       "      <td>341300</td>\n",
       "      <td>NEAR BAY</td>\n",
       "    </tr>\n",
       "    <tr>\n",
       "      <th>4</th>\n",
       "      <td>-122.25</td>\n",
       "      <td>37.85</td>\n",
       "      <td>52</td>\n",
       "      <td>1627</td>\n",
       "      <td>280.0</td>\n",
       "      <td>565</td>\n",
       "      <td>259</td>\n",
       "      <td>3.8462</td>\n",
       "      <td>342200</td>\n",
       "      <td>NEAR BAY</td>\n",
       "    </tr>\n",
       "  </tbody>\n",
       "</table>\n",
       "</div>"
      ],
      "text/plain": [
       "   longitude  latitude  housing_median_age  total_rooms  total_bedrooms  \\\n",
       "0    -122.23     37.88                  41          880           129.0   \n",
       "1    -122.22     37.86                  21         7099          1106.0   \n",
       "2    -122.24     37.85                  52         1467           190.0   \n",
       "3    -122.25     37.85                  52         1274           235.0   \n",
       "4    -122.25     37.85                  52         1627           280.0   \n",
       "\n",
       "   population  households  median_income  median_house_value ocean_proximity  \n",
       "0         322         126         8.3252              452600        NEAR BAY  \n",
       "1        2401        1138         8.3014              358500        NEAR BAY  \n",
       "2         496         177         7.2574              352100        NEAR BAY  \n",
       "3         558         219         5.6431              341300        NEAR BAY  \n",
       "4         565         259         3.8462              342200        NEAR BAY  "
      ]
     },
     "execution_count": 6,
     "metadata": {},
     "output_type": "execute_result"
    }
   ],
   "source": [
    "df.head()"
   ]
  },
  {
   "cell_type": "markdown",
   "id": "549c9379",
   "metadata": {},
   "source": [
    "## Dataset Overview\n",
    "\n",
    "* Housing dataset is an excel file\n",
    "* It has 10 columns and 20640 rows\n",
    "* Some columns have float values and other have integer values and onlu colum ocean_proximity is object.\n",
    "* Below is shown the information of this dataset using .info() method"
   ]
  },
  {
   "cell_type": "code",
   "execution_count": 18,
   "id": "513d1432",
   "metadata": {},
   "outputs": [
    {
     "data": {
      "text/plain": [
       "(20640, 10)"
      ]
     },
     "execution_count": 18,
     "metadata": {},
     "output_type": "execute_result"
    }
   ],
   "source": [
    "df.shape"
   ]
  },
  {
   "cell_type": "code",
   "execution_count": 8,
   "id": "7ba62663",
   "metadata": {},
   "outputs": [
    {
     "name": "stdout",
     "output_type": "stream",
     "text": [
      "<class 'pandas.core.frame.DataFrame'>\n",
      "RangeIndex: 20640 entries, 0 to 20639\n",
      "Data columns (total 10 columns):\n",
      " #   Column              Non-Null Count  Dtype  \n",
      "---  ------              --------------  -----  \n",
      " 0   longitude           20640 non-null  float64\n",
      " 1   latitude            20640 non-null  float64\n",
      " 2   housing_median_age  20640 non-null  int64  \n",
      " 3   total_rooms         20640 non-null  int64  \n",
      " 4   total_bedrooms      20433 non-null  float64\n",
      " 5   population          20640 non-null  int64  \n",
      " 6   households          20640 non-null  int64  \n",
      " 7   median_income       20640 non-null  float64\n",
      " 8   median_house_value  20640 non-null  int64  \n",
      " 9   ocean_proximity     20640 non-null  object \n",
      "dtypes: float64(4), int64(5), object(1)\n",
      "memory usage: 1.6+ MB\n"
     ]
    }
   ],
   "source": [
    "df.info()"
   ]
  },
  {
   "cell_type": "markdown",
   "id": "56cd9651",
   "metadata": {},
   "source": [
    "### Q.no.1 What is the average median income of the data set and check the distribution of data using appropriate plots. Please explain the distribution of the plot."
   ]
  },
  {
   "cell_type": "code",
   "execution_count": 14,
   "id": "37eb06fc",
   "metadata": {},
   "outputs": [
    {
     "name": "stdout",
     "output_type": "stream",
     "text": [
      "3.8707\n"
     ]
    }
   ],
   "source": [
    "# The average value of median_income from the dataset using .mean() method\n",
    "df['median_income'].head()\n",
    "avg=df['median_income'].mean()\n",
    "print(round(avg,4))"
   ]
  },
  {
   "cell_type": "markdown",
   "id": "e34f94f0",
   "metadata": {},
   "source": [
    "#### Here the average value of median_income is 3.8707"
   ]
  },
  {
   "cell_type": "code",
   "execution_count": 27,
   "id": "d2f621b7",
   "metadata": {},
   "outputs": [
    {
     "data": {
      "image/png": "[encoded data removed]",
      "text/plain": [
       "<Figure size 500x300 with 1 Axes>"
      ]
     },
     "metadata": {},
     "output_type": "display_data"
    }
   ],
   "source": [
    "plt.figure(figsize=(5,3))\n",
    "ax=sns.kdeplot(x='median_income',data=df,fill=True,palette='magma')\n",
    "plt.show()"
   ]
  },
  {
   "cell_type": "markdown",
   "id": "b4a0bde8",
   "metadata": {},
   "source": [
    "* I have used Kernel Density plot to plot the 'median_income' and see its distribution\n",
    "* The 'median_income' of the people lies in range between 0 to 16.\n",
    "* We can say from the Kernel Density plot , that large number of people have the 'median_income' between 0 to 5.\n",
    "* The number of people having 'median_income' more than 6 is less.\n",
    "* The number of people having 'median_income' in range between 10 to 16 is very less.\n",
    "* The number of people having 'median_income'=4 is maximum."
   ]
  },
  {
   "cell_type": "markdown",
   "id": "d4d6038f",
   "metadata": {},
   "source": [
    "## Question no 2\n",
    "###  Draw an appropriate plot to see the distribution of housing_median_age and explain your observations."
   ]
  },
  {
   "cell_type": "code",
   "execution_count": 29,
   "id": "30e24bae",
   "metadata": {},
   "outputs": [
    {
     "data": {
      "text/plain": [
       "<AxesSubplot:xlabel='housing_median_age', ylabel='Count'>"
      ]
     },
     "execution_count": 29,
     "metadata": {},
     "output_type": "execute_result"
    },
    {
     "data": {
      "image/png": "[encoded data removed]",
      "text/plain": [
       "<Figure size 500x300 with 1 Axes>"
      ]
     },
     "metadata": {},
     "output_type": "display_data"
    }
   ],
   "source": [
    "# We will use a histogram plot to see the distribution of housing_median_age\n",
    "\n",
    "plt.figure(figsize=(5,3))\n",
    "sns.histplot(x='housing_median_age',data=df,bins=10)"
   ]
  },
  {
   "cell_type": "markdown",
   "id": "d8d9299b",
   "metadata": {},
   "source": [
    "* We can conclude from the above histogram plot that,'housing_median_age' is very diverse.\n",
    "* In that , the people have 'housing_median_age'between 0 to 11 are low compared to others.\n",
    "* The people having 'housing_median_age' in range of 30 to 40 is the highest.\n",
    "* Majority of the people are in the age group between 15 to 40"
   ]
  },
  {
   "cell_type": "markdown",
   "id": "b19766e7",
   "metadata": {},
   "source": [
    "## Question no 3\n",
    "###  Show with the help of visualization, how median_income and median_house_values are related?"
   ]
  },
  {
   "cell_type": "code",
   "execution_count": 38,
   "id": "956c5c41",
   "metadata": {},
   "outputs": [
    {
     "data": {
      "image/png": "[encoded data removed]",
      "text/plain": [
       "<Figure size 500x300 with 1 Axes>"
      ]
     },
     "metadata": {},
     "output_type": "display_data"
    }
   ],
   "source": [
    "plt.figure(figsize=(5,3))\n",
    "df1=df.head(50)\n",
    "sns.scatterplot(x='median_income',y='median_house_value',data=df1,palette='husl')\n",
    "plt.show()"
   ]
  },
  {
   "cell_type": "markdown",
   "id": "fce358a4",
   "metadata": {},
   "source": [
    "* I have used top 50 records of the dataset to analyze 'median_income' and 'median_house_value'\n",
    "* I have used Scatterplot ,where on x axis I kept 'median_income' and on y axis I kept 'median_house_value'.\n",
    "* From this we can see a pattern ,as the median_income increases the 'median_house_value' also increases gradually\n",
    "* It is not in linear way completely but similar to it. "
   ]
  },
  {
   "cell_type": "markdown",
   "id": "e1941ca6",
   "metadata": {},
   "source": [
    "## Question no 4\n",
    "###  Create a data set by deleting the corresponding examples from the data set for which total_bedrooms are not available."
   ]
  },
  {
   "cell_type": "code",
   "execution_count": 45,
   "id": "88990103",
   "metadata": {},
   "outputs": [
    {
     "data": {
      "text/plain": [
       "longitude             0\n",
       "latitude              0\n",
       "housing_median_age    0\n",
       "total_rooms           0\n",
       "total_bedrooms        0\n",
       "population            0\n",
       "households            0\n",
       "median_income         0\n",
       "median_house_value    0\n",
       "ocean_proximity       0\n",
       "dtype: int64"
      ]
     },
     "execution_count": 45,
     "metadata": {},
     "output_type": "execute_result"
    }
   ],
   "source": [
    "# to do this we will first check for the null values.\n",
    "df[df['total_bedrooms'].isnull()]\n",
    "# now to delete it we will use dropna() method to delete the records where total_bedrooms are not avalable\n",
    "data_set1=df.dropna()\n",
    "# we have dropped the na values and created a data_set1 where all non null records are there.\n",
    "# to see we will again check for the null values in the newly created dataset\n",
    "data_set1.isnull().sum()"
   ]
  },
  {
   "cell_type": "markdown",
   "id": "7a0dca4c",
   "metadata": {},
   "source": [
    "* We have created a new dataset named 'data_set1' whoch doesnot have any null values.\n",
    "* We have used the .dropna() method to delete the unwanted data.\n",
    "* We have also used the .isnull() method for again checking the null values."
   ]
  },
  {
   "cell_type": "markdown",
   "id": "9a733b80",
   "metadata": {},
   "source": [
    "## Question no 5\n",
    "### Create a data set by filling the missing data with the mean value of the total_bedrooms in the original data set."
   ]
  },
  {
   "cell_type": "code",
   "execution_count": 55,
   "id": "6bab5d61",
   "metadata": {},
   "outputs": [
    {
     "data": {
      "text/plain": [
       "longitude             0\n",
       "latitude              0\n",
       "housing_median_age    0\n",
       "total_rooms           0\n",
       "total_bedrooms        0\n",
       "population            0\n",
       "households            0\n",
       "median_income         0\n",
       "median_house_value    0\n",
       "ocean_proximity       0\n",
       "dtype: int64"
      ]
     },
     "execution_count": 55,
     "metadata": {},
     "output_type": "execute_result"
    }
   ],
   "source": [
    "df.isnull().sum()\n",
    "# to fill the total_bedrooms null value with the mean['total_bedrooms']\n",
    "# calculating the mean from newly created dataset which has no null values\n",
    "mean_value=data_set1['total_bedrooms'].mean()\n",
    "# to fill null values with mean value\n",
    "data_set2 = df.fillna(df['total_bedrooms'].mean())\n",
    "data_set2.isnull().sum()"
   ]
  },
  {
   "cell_type": "markdown",
   "id": "de0a9fbc",
   "metadata": {},
   "source": [
    "* We have created a dataset named data_set2,where the null values of the 'total_bedrooms' is filled with the mean of it."
   ]
  },
  {
   "cell_type": "markdown",
   "id": "37ecd216",
   "metadata": {},
   "source": [
    "## Question no 6\n",
    "### Write a programming construct (create a user defined function) to calculate the median value of the data set wherever required."
   ]
  },
  {
   "cell_type": "code",
   "execution_count": 59,
   "id": "a8138064",
   "metadata": {},
   "outputs": [
    {
     "data": {
      "text/plain": [
       "2127.0"
      ]
     },
     "execution_count": 59,
     "metadata": {},
     "output_type": "execute_result"
    }
   ],
   "source": [
    "def median_value(x):\n",
    "    return x.median()\n",
    "median_value(df['total_rooms'])"
   ]
  },
  {
   "cell_type": "markdown",
   "id": "b4ce2ef7",
   "metadata": {},
   "source": [
    "* I have created a function median_value(x), it takes x amd return median value of it."
   ]
  },
  {
   "cell_type": "markdown",
   "id": "be6a1248",
   "metadata": {},
   "source": [
    "## Question no 7\n",
    "### Plot latitude versus longitude and explain your observations."
   ]
  },
  {
   "cell_type": "code",
   "execution_count": 62,
   "id": "7256e53a",
   "metadata": {},
   "outputs": [
    {
     "data": {
      "image/png": "[encoded data removed]",
      "text/plain": [
       "<Figure size 500x300 with 1 Axes>"
      ]
     },
     "metadata": {},
     "output_type": "display_data"
    }
   ],
   "source": [
    "plt.figure(figsize=(5,3))\n",
    "sns.lineplot(x='longitude',y='latitude',data=df)\n",
    "plt.show()"
   ]
  },
  {
   "cell_type": "markdown",
   "id": "db4340bc",
   "metadata": {},
   "source": [
    "* From the graph, we can see that , as the longitude increases vales of lattitude decreases.\n",
    "* It shows a linear varitation with a negative slope.,means values of lattitude decreases as the value of longitude tends towards positive side."
   ]
  },
  {
   "cell_type": "markdown",
   "id": "7d6d5fa1",
   "metadata": {},
   "source": [
    "## Question no 8\n",
    "### Create a data set for which the ocean_proximity is ‘Near ocean’."
   ]
  },
  {
   "cell_type": "code",
   "execution_count": 68,
   "id": "6c0a9851",
   "metadata": {},
   "outputs": [
    {
     "name": "stdout",
     "output_type": "stream",
     "text": [
      "<class 'pandas.core.frame.DataFrame'>\n",
      "Int64Index: 2658 entries, 1850 to 20425\n",
      "Data columns (total 10 columns):\n",
      " #   Column              Non-Null Count  Dtype  \n",
      "---  ------              --------------  -----  \n",
      " 0   longitude           2658 non-null   float64\n",
      " 1   latitude            2658 non-null   float64\n",
      " 2   housing_median_age  2658 non-null   int64  \n",
      " 3   total_rooms         2658 non-null   int64  \n",
      " 4   total_bedrooms      2628 non-null   float64\n",
      " 5   population          2658 non-null   int64  \n",
      " 6   households          2658 non-null   int64  \n",
      " 7   median_income       2658 non-null   float64\n",
      " 8   median_house_value  2658 non-null   int64  \n",
      " 9   ocean_proximity     2658 non-null   object \n",
      "dtypes: float64(4), int64(5), object(1)\n",
      "memory usage: 228.4+ KB\n"
     ]
    }
   ],
   "source": [
    "data_set3=df[df['ocean_proximity']=='NEAR OCEAN']\n",
    "data_set3.info()"
   ]
  },
  {
   "cell_type": "markdown",
   "id": "0a52e0d5",
   "metadata": {},
   "source": [
    "* Here we have created a dataset named data_set3, which has the ocean_proximity ='NEAR OCEAN'\n",
    "* We have used .info() method to display the no. of records it has.\n",
    "* It has in total 2658 records."
   ]
  },
  {
   "cell_type": "markdown",
   "id": "09346f41",
   "metadata": {},
   "source": [
    "## Quesion no 9\n",
    "### Find the mean and median of the median income for the data set created in question 8."
   ]
  },
  {
   "cell_type": "code",
   "execution_count": 75,
   "id": "c4d3b4ea",
   "metadata": {},
   "outputs": [
    {
     "name": "stdout",
     "output_type": "stream",
     "text": [
      "<class 'pandas.core.frame.DataFrame'>\n",
      "Int64Index: 2658 entries, 1850 to 20425\n",
      "Data columns (total 10 columns):\n",
      " #   Column              Non-Null Count  Dtype  \n",
      "---  ------              --------------  -----  \n",
      " 0   longitude           2658 non-null   float64\n",
      " 1   latitude            2658 non-null   float64\n",
      " 2   housing_median_age  2658 non-null   int64  \n",
      " 3   total_rooms         2658 non-null   int64  \n",
      " 4   total_bedrooms      2628 non-null   float64\n",
      " 5   population          2658 non-null   int64  \n",
      " 6   households          2658 non-null   int64  \n",
      " 7   median_income       2658 non-null   float64\n",
      " 8   median_house_value  2658 non-null   int64  \n",
      " 9   ocean_proximity     2658 non-null   object \n",
      "dtypes: float64(4), int64(5), object(1)\n",
      "memory usage: 228.4+ KB\n",
      "The mean of the newly created dataset i.e data_set3 is : 4.005784800601957\n",
      "The median of the newly created dataset i.e data_set3 is : 3.64705\n"
     ]
    }
   ],
   "source": [
    "# displaying top 5 records of the newly created dataset data_set3\n",
    "data_set3.head()\n",
    "# getting info ot that dataset \n",
    "data_set3.info()\n",
    "# calculating mean of data_set3['median_income']\n",
    "mean=data_set3['median_income'].mean()\n",
    "\n",
    "# calculating median of data_set3['median_income']\n",
    "median = data_set3['median_income'].median()\n",
    "\n",
    "print('The mean of the newly created dataset i.e data_set3 is :',mean)\n",
    "print('The median of the newly created dataset i.e data_set3 is :',median)"
   ]
  },
  {
   "cell_type": "markdown",
   "id": "2d475184",
   "metadata": {},
   "source": [
    "## Question no 10 \n",
    "### Please create a new column named total_bedroom_size. If the total bedrooms is 10 or less, it should be quoted as small. If the total bedrooms is 11 or more but less than 1000, it should be medium, otherwise it should be considered large."
   ]
  },
  {
   "cell_type": "code",
   "execution_count": 81,
   "id": "246405f5",
   "metadata": {},
   "outputs": [
    {
     "data": {
      "text/html": [
       "<div>\n",
       "<style scoped>\n",
       "    .dataframe tbody tr th:only-of-type {\n",
       "        vertical-align: middle;\n",
       "    }\n",
       "\n",
       "    .dataframe tbody tr th {\n",
       "        vertical-align: top;\n",
       "    }\n",
       "\n",
       "    .dataframe thead th {\n",
       "        text-align: right;\n",
       "    }\n",
       "</style>\n",
       "<table border=\"1\" class=\"dataframe\">\n",
       "  <thead>\n",
       "    <tr style=\"text-align: right;\">\n",
       "      <th></th>\n",
       "      <th>longitude</th>\n",
       "      <th>latitude</th>\n",
       "      <th>housing_median_age</th>\n",
       "      <th>total_rooms</th>\n",
       "      <th>total_bedrooms</th>\n",
       "      <th>population</th>\n",
       "      <th>households</th>\n",
       "      <th>median_income</th>\n",
       "      <th>median_house_value</th>\n",
       "      <th>ocean_proximity</th>\n",
       "      <th>total_bedroom_size</th>\n",
       "    </tr>\n",
       "  </thead>\n",
       "  <tbody>\n",
       "    <tr>\n",
       "      <th>0</th>\n",
       "      <td>-122.23</td>\n",
       "      <td>37.88</td>\n",
       "      <td>41</td>\n",
       "      <td>880</td>\n",
       "      <td>129.0</td>\n",
       "      <td>322</td>\n",
       "      <td>126</td>\n",
       "      <td>8.3252</td>\n",
       "      <td>452600</td>\n",
       "      <td>NEAR BAY</td>\n",
       "      <td>medium</td>\n",
       "    </tr>\n",
       "    <tr>\n",
       "      <th>1</th>\n",
       "      <td>-122.22</td>\n",
       "      <td>37.86</td>\n",
       "      <td>21</td>\n",
       "      <td>7099</td>\n",
       "      <td>1106.0</td>\n",
       "      <td>2401</td>\n",
       "      <td>1138</td>\n",
       "      <td>8.3014</td>\n",
       "      <td>358500</td>\n",
       "      <td>NEAR BAY</td>\n",
       "      <td>large</td>\n",
       "    </tr>\n",
       "    <tr>\n",
       "      <th>2</th>\n",
       "      <td>-122.24</td>\n",
       "      <td>37.85</td>\n",
       "      <td>52</td>\n",
       "      <td>1467</td>\n",
       "      <td>190.0</td>\n",
       "      <td>496</td>\n",
       "      <td>177</td>\n",
       "      <td>7.2574</td>\n",
       "      <td>352100</td>\n",
       "      <td>NEAR BAY</td>\n",
       "      <td>medium</td>\n",
       "    </tr>\n",
       "    <tr>\n",
       "      <th>3</th>\n",
       "      <td>-122.25</td>\n",
       "      <td>37.85</td>\n",
       "      <td>52</td>\n",
       "      <td>1274</td>\n",
       "      <td>235.0</td>\n",
       "      <td>558</td>\n",
       "      <td>219</td>\n",
       "      <td>5.6431</td>\n",
       "      <td>341300</td>\n",
       "      <td>NEAR BAY</td>\n",
       "      <td>medium</td>\n",
       "    </tr>\n",
       "    <tr>\n",
       "      <th>4</th>\n",
       "      <td>-122.25</td>\n",
       "      <td>37.85</td>\n",
       "      <td>52</td>\n",
       "      <td>1627</td>\n",
       "      <td>280.0</td>\n",
       "      <td>565</td>\n",
       "      <td>259</td>\n",
       "      <td>3.8462</td>\n",
       "      <td>342200</td>\n",
       "      <td>NEAR BAY</td>\n",
       "      <td>medium</td>\n",
       "    </tr>\n",
       "    <tr>\n",
       "      <th>5</th>\n",
       "      <td>-122.25</td>\n",
       "      <td>37.85</td>\n",
       "      <td>52</td>\n",
       "      <td>919</td>\n",
       "      <td>213.0</td>\n",
       "      <td>413</td>\n",
       "      <td>193</td>\n",
       "      <td>4.0368</td>\n",
       "      <td>269700</td>\n",
       "      <td>NEAR BAY</td>\n",
       "      <td>medium</td>\n",
       "    </tr>\n",
       "    <tr>\n",
       "      <th>6</th>\n",
       "      <td>-122.25</td>\n",
       "      <td>37.84</td>\n",
       "      <td>52</td>\n",
       "      <td>2535</td>\n",
       "      <td>489.0</td>\n",
       "      <td>1094</td>\n",
       "      <td>514</td>\n",
       "      <td>3.6591</td>\n",
       "      <td>299200</td>\n",
       "      <td>NEAR BAY</td>\n",
       "      <td>medium</td>\n",
       "    </tr>\n",
       "    <tr>\n",
       "      <th>7</th>\n",
       "      <td>-122.25</td>\n",
       "      <td>37.84</td>\n",
       "      <td>52</td>\n",
       "      <td>3104</td>\n",
       "      <td>687.0</td>\n",
       "      <td>1157</td>\n",
       "      <td>647</td>\n",
       "      <td>3.1200</td>\n",
       "      <td>241400</td>\n",
       "      <td>NEAR BAY</td>\n",
       "      <td>medium</td>\n",
       "    </tr>\n",
       "    <tr>\n",
       "      <th>8</th>\n",
       "      <td>-122.26</td>\n",
       "      <td>37.84</td>\n",
       "      <td>42</td>\n",
       "      <td>2555</td>\n",
       "      <td>665.0</td>\n",
       "      <td>1206</td>\n",
       "      <td>595</td>\n",
       "      <td>2.0804</td>\n",
       "      <td>226700</td>\n",
       "      <td>NEAR BAY</td>\n",
       "      <td>medium</td>\n",
       "    </tr>\n",
       "    <tr>\n",
       "      <th>9</th>\n",
       "      <td>-122.25</td>\n",
       "      <td>37.84</td>\n",
       "      <td>52</td>\n",
       "      <td>3549</td>\n",
       "      <td>707.0</td>\n",
       "      <td>1551</td>\n",
       "      <td>714</td>\n",
       "      <td>3.6912</td>\n",
       "      <td>261100</td>\n",
       "      <td>NEAR BAY</td>\n",
       "      <td>medium</td>\n",
       "    </tr>\n",
       "  </tbody>\n",
       "</table>\n",
       "</div>"
      ],
      "text/plain": [
       "   longitude  latitude  housing_median_age  total_rooms  total_bedrooms  \\\n",
       "0    -122.23     37.88                  41          880           129.0   \n",
       "1    -122.22     37.86                  21         7099          1106.0   \n",
       "2    -122.24     37.85                  52         1467           190.0   \n",
       "3    -122.25     37.85                  52         1274           235.0   \n",
       "4    -122.25     37.85                  52         1627           280.0   \n",
       "5    -122.25     37.85                  52          919           213.0   \n",
       "6    -122.25     37.84                  52         2535           489.0   \n",
       "7    -122.25     37.84                  52         3104           687.0   \n",
       "8    -122.26     37.84                  42         2555           665.0   \n",
       "9    -122.25     37.84                  52         3549           707.0   \n",
       "\n",
       "   population  households  median_income  median_house_value ocean_proximity  \\\n",
       "0         322         126         8.3252              452600        NEAR BAY   \n",
       "1        2401        1138         8.3014              358500        NEAR BAY   \n",
       "2         496         177         7.2574              352100        NEAR BAY   \n",
       "3         558         219         5.6431              341300        NEAR BAY   \n",
       "4         565         259         3.8462              342200        NEAR BAY   \n",
       "5         413         193         4.0368              269700        NEAR BAY   \n",
       "6        1094         514         3.6591              299200        NEAR BAY   \n",
       "7        1157         647         3.1200              241400        NEAR BAY   \n",
       "8        1206         595         2.0804              226700        NEAR BAY   \n",
       "9        1551         714         3.6912              261100        NEAR BAY   \n",
       "\n",
       "  total_bedroom_size  \n",
       "0             medium  \n",
       "1              large  \n",
       "2             medium  \n",
       "3             medium  \n",
       "4             medium  \n",
       "5             medium  \n",
       "6             medium  \n",
       "7             medium  \n",
       "8             medium  \n",
       "9             medium  "
      ]
     },
     "execution_count": 81,
     "metadata": {},
     "output_type": "execute_result"
    }
   ],
   "source": [
    "# we will use np.where() method to create the column total_bedroom_size with the required classes as small,medium,large.\n",
    "\n",
    "# Create a new column 'total_bedroom_size' based on 'total_bedrooms' values\n",
    "df['total_bedroom_size'] = np.where(df['total_bedrooms'] <= 10, 'small',\n",
    "                                      np.where((df['total_bedrooms'] >= 11) & (df['total_bedrooms'] < 1000), 'medium', 'large'))\n",
    "df.head(10)"
   ]
  },
  {
   "cell_type": "markdown",
   "id": "d011863f",
   "metadata": {},
   "source": [
    "* We have added the new column using the numpy method .where()\n",
    "* np.where() will take the condition and gives the output specified in parameter if only condition is satisfied or else, it gives the output as the specified false value . "
   ]
  },
  {
   "cell_type": "code",
   "execution_count": null,
   "id": "4b43a971",
   "metadata": {},
   "outputs": [],
   "source": []
  },
  {
   "cell_type": "code",
   "execution_count": null,
   "id": "edeace5b",
   "metadata": {},
   "outputs": [],
   "source": []
  },
  {
   "cell_type": "code",
   "execution_count": null,
   "id": "91ac555f",
   "metadata": {},
   "outputs": [],
   "source": []
  },
  {
   "cell_type": "code",
   "execution_count": null,
   "id": "d2d9435b",
   "metadata": {},
   "outputs": [],
   "source": []
  },
  {
   "cell_type": "code",
   "execution_count": null,
   "id": "479813f8",
   "metadata": {},
   "outputs": [],
   "source": []
  }
 ],
 "metadata": {
  "kernelspec": {
   "display_name": "Python 3 (ipykernel)",
   "language": "python",
   "name": "python3"
  },
  "language_info": {
   "codemirror_mode": {
    "name": "ipython",
    "version": 3
   },
   "file_extension": ".py",
   "mimetype": "text/x-python",
   "name": "python",
   "nbconvert_exporter": "python",
   "pygments_lexer": "ipython3",
   "version": "3.9.13"
  }
 },
 "nbformat": 4,
 "nbformat_minor": 5
}
